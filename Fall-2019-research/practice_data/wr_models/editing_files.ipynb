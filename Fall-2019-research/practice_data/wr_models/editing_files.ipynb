{
 "cells": [
  {
   "cell_type": "code",
   "execution_count": 6,
   "metadata": {},
   "outputs": [
    {
     "name": "stdout",
     "output_type": "stream",
     "text": [
      "[2.50000000e-111 2.50000000e-111 2.50000000e-111 ... 3.48329301e-032\n",
      " 2.77772987e-033 2.50000000e-111]\n"
     ]
    }
   ],
   "source": [
    "%matplotlib inline\n",
    "import numpy as np\n",
    "from numpy import *\n",
    "\n",
    "#loading data\n",
    "data = loadtxt('lmc-wne_14-12_sed.txt')\n",
    "x = data[:,0]\n",
    "y = data[:,1]\n",
    "\n",
    "#calculations\n",
    "linflux=(10**y)\n",
    "flux = (2.5e-11*linflux)\n",
    "wavelength = (10**x)\n",
    "\n",
    "#checking values\n",
    "print(flux)\n",
    "\n",
    "#overwriting empty file\n",
    "file = open('14-12_edited.txt',\"w\")\n",
    "\n",
    "for i in range(len(flux)):\n",
    "    file.write('{:.5f} {:.50f}\\n'.format(wavelength[i],flux[i]))\n",
    "file.close()\n"
   ]
  },
  {
   "cell_type": "code",
   "execution_count": 26,
   "metadata": {},
   "outputs": [
    {
     "name": "stdout",
     "output_type": "stream",
     "text": [
      "[-110.6     -110.6     -110.6     ...  -30.60513 -110.6     -110.6    ]\n",
      "[-100.      -100.      -100.      ...  -20.00513 -100.      -100.     ]\n"
     ]
    }
   ],
   "source": [
    "%matplotlib inline\n",
    "import numpy as np\n",
    "from numpy import *\n",
    "#loading data\n",
    "data = loadtxt('lmc-wne_07-18_sed.txt')\n",
    "x = data[:,0]\n",
    "y = data[:,1]\n",
    "\n",
    "#for i in range(len(y)):\n",
    "  # y[i] = y[i] - 10.6\n",
    "\n",
    "#fluxedit=y[i]\n",
    "\n",
    "array = np.array(data[:,1])\n",
    "new = array - 10.6\n",
    "print(new)\n",
    "print(array)\n",
    "\n",
    "#overwriting empty file\n",
    "file = open('07-18_fluxedit.txt',\"w\")\n",
    "\n",
    "for i in range(len(new)):\n",
    "    file.write('{:.5f} {:.50f}\\n'.format(x[i],new[i]))\n",
    "file.close()\n",
    "\n",
    "#print(fluxedit)\n"
   ]
  },
  {
   "cell_type": "code",
   "execution_count": null,
   "metadata": {},
   "outputs": [],
   "source": []
  }
 ],
 "metadata": {
  "kernelspec": {
   "display_name": "Python 3",
   "language": "python",
   "name": "python3"
  },
  "language_info": {
   "codemirror_mode": {
    "name": "ipython",
    "version": 3
   },
   "file_extension": ".py",
   "mimetype": "text/x-python",
   "name": "python",
   "nbconvert_exporter": "python",
   "pygments_lexer": "ipython3",
   "version": "3.7.6"
  }
 },
 "nbformat": 4,
 "nbformat_minor": 2
}
